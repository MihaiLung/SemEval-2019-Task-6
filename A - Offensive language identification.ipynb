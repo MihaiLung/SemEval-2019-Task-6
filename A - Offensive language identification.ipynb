{
 "cells": [
  {
   "cell_type": "code",
   "execution_count": 19,
   "metadata": {},
   "outputs": [
    {
     "name": "stdout",
     "output_type": "stream",
     "text": [
      "The autoreload extension is already loaded. To reload it, use:\n",
      "  %reload_ext autoreload\n"
     ]
    }
   ],
   "source": [
    "from utils import *\n",
    "\n",
    "import numpy as np\n",
    "import torch\n",
    "import matplotlib.pyplot as plt\n",
    "import pandas as pd\n",
    "import re\n",
    "\n",
    "\n",
    "%matplotlib inline\n",
    "%load_ext autoreload\n",
    "%autoreload"
   ]
  },
  {
   "cell_type": "markdown",
   "metadata": {},
   "source": [
    "# Sub-task A - Offensive language identification\n",
    "Given a text, your system should categorise it into OFF (offensive) and NOT (not offensive)."
   ]
  },
  {
   "cell_type": "markdown",
   "metadata": {},
   "source": [
    "## Load Data"
   ]
  },
  {
   "cell_type": "code",
   "execution_count": 18,
   "metadata": {},
   "outputs": [
    {
     "data": {
      "text/html": [
       "<div>\n",
       "<style scoped>\n",
       "    .dataframe tbody tr th:only-of-type {\n",
       "        vertical-align: middle;\n",
       "    }\n",
       "\n",
       "    .dataframe tbody tr th {\n",
       "        vertical-align: top;\n",
       "    }\n",
       "\n",
       "    .dataframe thead th {\n",
       "        text-align: right;\n",
       "    }\n",
       "</style>\n",
       "<table border=\"1\" class=\"dataframe\">\n",
       "  <thead>\n",
       "    <tr style=\"text-align: right;\">\n",
       "      <th></th>\n",
       "      <th>tweet</th>\n",
       "    </tr>\n",
       "    <tr>\n",
       "      <th>id</th>\n",
       "      <th></th>\n",
       "    </tr>\n",
       "  </thead>\n",
       "  <tbody>\n",
       "    <tr>\n",
       "      <th>15923</th>\n",
       "      <td>#WhoIsQ #WheresTheServer #DumpNike #DECLASFISA...</td>\n",
       "    </tr>\n",
       "    <tr>\n",
       "      <th>27014</th>\n",
       "      <td>#ConstitutionDay is revered by Conservatives, ...</td>\n",
       "    </tr>\n",
       "    <tr>\n",
       "      <th>30530</th>\n",
       "      <td>#FOXNews #NRA #MAGA #POTUS #TRUMP #2ndAmendmen...</td>\n",
       "    </tr>\n",
       "    <tr>\n",
       "      <th>13876</th>\n",
       "      <td>#Watching #Boomer getting the news that she is...</td>\n",
       "    </tr>\n",
       "    <tr>\n",
       "      <th>60133</th>\n",
       "      <td>#NoPasaran: Unity demo to oppose the far-right...</td>\n",
       "    </tr>\n",
       "  </tbody>\n",
       "</table>\n",
       "</div>"
      ],
      "text/plain": [
       "                                                   tweet\n",
       "id                                                      \n",
       "15923  #WhoIsQ #WheresTheServer #DumpNike #DECLASFISA...\n",
       "27014  #ConstitutionDay is revered by Conservatives, ...\n",
       "30530  #FOXNews #NRA #MAGA #POTUS #TRUMP #2ndAmendmen...\n",
       "13876  #Watching #Boomer getting the news that she is...\n",
       "60133  #NoPasaran: Unity demo to oppose the far-right..."
      ]
     },
     "execution_count": 18,
     "metadata": {},
     "output_type": "execute_result"
    }
   ],
   "source": [
    "path = '../data/Test A Release/testset-taska.tsv'\n",
    "\n",
    "data_A = pd.read_table(path,index_col='id')\n",
    "data_A.head()"
   ]
  },
  {
   "cell_type": "markdown",
   "metadata": {},
   "source": [
    "## Data Transformation and Cleaning"
   ]
  },
  {
   "cell_type": "markdown",
   "metadata": {},
   "source": [
    "Work on the text of each tweet : Extracts : \n",
    "    - Hashtags\n",
    "    - Words\n",
    "    - Words cut on CAPs and Numbers "
   ]
  },
  {
   "cell_type": "code",
   "execution_count": 142,
   "metadata": {},
   "outputs": [
    {
     "data": {
      "text/html": [
       "<div>\n",
       "<style scoped>\n",
       "    .dataframe tbody tr th:only-of-type {\n",
       "        vertical-align: middle;\n",
       "    }\n",
       "\n",
       "    .dataframe tbody tr th {\n",
       "        vertical-align: top;\n",
       "    }\n",
       "\n",
       "    .dataframe thead th {\n",
       "        text-align: right;\n",
       "    }\n",
       "</style>\n",
       "<table border=\"1\" class=\"dataframe\">\n",
       "  <thead>\n",
       "    <tr style=\"text-align: right;\">\n",
       "      <th></th>\n",
       "      <th>tweet</th>\n",
       "      <th>hashtags</th>\n",
       "      <th>words</th>\n",
       "      <th>words_refined</th>\n",
       "    </tr>\n",
       "    <tr>\n",
       "      <th>id</th>\n",
       "      <th></th>\n",
       "      <th></th>\n",
       "      <th></th>\n",
       "      <th></th>\n",
       "    </tr>\n",
       "  </thead>\n",
       "  <tbody>\n",
       "    <tr>\n",
       "      <th>15923</th>\n",
       "      <td>#WhoIsQ #WheresTheServer #DumpNike #DECLASFISA...</td>\n",
       "      <td>[WhoIsQ, WheresTheServer, DumpNike, DECLASFISA...</td>\n",
       "      <td>[WhoIsQ, WheresTheServer, DumpNike, DECLASFISA...</td>\n",
       "      <td>[Who, Is, Q, Wheres, The, Server, Dump, Nike, ...</td>\n",
       "    </tr>\n",
       "    <tr>\n",
       "      <th>27014</th>\n",
       "      <td>#ConstitutionDay is revered by Conservatives, ...</td>\n",
       "      <td>[ConstitutionDay]</td>\n",
       "      <td>[ConstitutionDay, is, revered, by, Conservativ...</td>\n",
       "      <td>[Constitution, Day, is, revered, by, Conservat...</td>\n",
       "    </tr>\n",
       "    <tr>\n",
       "      <th>30530</th>\n",
       "      <td>#FOXNews #NRA #MAGA #POTUS #TRUMP #2ndAmendmen...</td>\n",
       "      <td>[FOXNews, NRA, MAGA, POTUS, TRUMP, 2ndAmendmen...</td>\n",
       "      <td>[FOXNews, NRA, MAGA, POTUS, TRUMP, 2ndAmendmen...</td>\n",
       "      <td>[FOXN, ews, NRA, MAGA, POTUS, TRUMP, 2, nd, Am...</td>\n",
       "    </tr>\n",
       "    <tr>\n",
       "      <th>13876</th>\n",
       "      <td>#Watching #Boomer getting the news that she is...</td>\n",
       "      <td>[Watching, Boomer, Wentworth]</td>\n",
       "      <td>[Watching, Boomer, getting, the, news, that, s...</td>\n",
       "      <td>[Watching, Boomer, getting, the, news, that, s...</td>\n",
       "    </tr>\n",
       "    <tr>\n",
       "      <th>60133</th>\n",
       "      <td>#NoPasaran: Unity demo to oppose the far-right...</td>\n",
       "      <td>[NoPasaran, London, antifa, Oct13]</td>\n",
       "      <td>[NoPasaran, Unity, demo, to, oppose, the, far,...</td>\n",
       "      <td>[No, Pasaran, Unity, demo, to, oppose, the, fa...</td>\n",
       "    </tr>\n",
       "    <tr>\n",
       "      <th>83681</th>\n",
       "      <td>. . . What the fuck did he do this time?</td>\n",
       "      <td>[]</td>\n",
       "      <td>[What, the, fuck, did, he, do, this, time]</td>\n",
       "      <td>[What, the, fuck, did, he, do, this, time]</td>\n",
       "    </tr>\n",
       "    <tr>\n",
       "      <th>96874</th>\n",
       "      <td>#RAP is a form of ART! Used to express yoursel...</td>\n",
       "      <td>[RAP, QUEEN]</td>\n",
       "      <td>[RAP, is, a, form, of, ART, Used, to, express,...</td>\n",
       "      <td>[RAP, is, a, form, of, ART, Used, to, express,...</td>\n",
       "    </tr>\n",
       "    <tr>\n",
       "      <th>65507</th>\n",
       "      <td>@USER Do you get the feeling he is kissing @US...</td>\n",
       "      <td>[]</td>\n",
       "      <td>[USER, Do, you, get, the, feeling, he, is, kis...</td>\n",
       "      <td>[USER, Do, you, get, the, feeling, he, is, kis...</td>\n",
       "    </tr>\n",
       "    <tr>\n",
       "      <th>78910</th>\n",
       "      <td>5 Tips to Enhance Audience Connection on Faceb...</td>\n",
       "      <td>[socialmedia, smm]</td>\n",
       "      <td>[5, Tips, to, Enhance, Audience, Connection, o...</td>\n",
       "      <td>[5, Tips, to, Enhance, Audience, Connection, o...</td>\n",
       "    </tr>\n",
       "    <tr>\n",
       "      <th>46363</th>\n",
       "      <td>#BiggBossTamil janani won the task. She is goi...</td>\n",
       "      <td>[BiggBossTamil]</td>\n",
       "      <td>[BiggBossTamil, janani, won, the, task, She, i...</td>\n",
       "      <td>[Bigg, Boss, Tamil, janani, won, the, task, Sh...</td>\n",
       "    </tr>\n",
       "  </tbody>\n",
       "</table>\n",
       "</div>"
      ],
      "text/plain": [
       "                                                   tweet  \\\n",
       "id                                                         \n",
       "15923  #WhoIsQ #WheresTheServer #DumpNike #DECLASFISA...   \n",
       "27014  #ConstitutionDay is revered by Conservatives, ...   \n",
       "30530  #FOXNews #NRA #MAGA #POTUS #TRUMP #2ndAmendmen...   \n",
       "13876  #Watching #Boomer getting the news that she is...   \n",
       "60133  #NoPasaran: Unity demo to oppose the far-right...   \n",
       "83681           . . . What the fuck did he do this time?   \n",
       "96874  #RAP is a form of ART! Used to express yoursel...   \n",
       "65507  @USER Do you get the feeling he is kissing @US...   \n",
       "78910  5 Tips to Enhance Audience Connection on Faceb...   \n",
       "46363  #BiggBossTamil janani won the task. She is goi...   \n",
       "\n",
       "                                                hashtags  \\\n",
       "id                                                         \n",
       "15923  [WhoIsQ, WheresTheServer, DumpNike, DECLASFISA...   \n",
       "27014                                  [ConstitutionDay]   \n",
       "30530  [FOXNews, NRA, MAGA, POTUS, TRUMP, 2ndAmendmen...   \n",
       "13876                      [Watching, Boomer, Wentworth]   \n",
       "60133                 [NoPasaran, London, antifa, Oct13]   \n",
       "83681                                                 []   \n",
       "96874                                       [RAP, QUEEN]   \n",
       "65507                                                 []   \n",
       "78910                                 [socialmedia, smm]   \n",
       "46363                                    [BiggBossTamil]   \n",
       "\n",
       "                                                   words  \\\n",
       "id                                                         \n",
       "15923  [WhoIsQ, WheresTheServer, DumpNike, DECLASFISA...   \n",
       "27014  [ConstitutionDay, is, revered, by, Conservativ...   \n",
       "30530  [FOXNews, NRA, MAGA, POTUS, TRUMP, 2ndAmendmen...   \n",
       "13876  [Watching, Boomer, getting, the, news, that, s...   \n",
       "60133  [NoPasaran, Unity, demo, to, oppose, the, far,...   \n",
       "83681         [What, the, fuck, did, he, do, this, time]   \n",
       "96874  [RAP, is, a, form, of, ART, Used, to, express,...   \n",
       "65507  [USER, Do, you, get, the, feeling, he, is, kis...   \n",
       "78910  [5, Tips, to, Enhance, Audience, Connection, o...   \n",
       "46363  [BiggBossTamil, janani, won, the, task, She, i...   \n",
       "\n",
       "                                           words_refined  \n",
       "id                                                        \n",
       "15923  [Who, Is, Q, Wheres, The, Server, Dump, Nike, ...  \n",
       "27014  [Constitution, Day, is, revered, by, Conservat...  \n",
       "30530  [FOXN, ews, NRA, MAGA, POTUS, TRUMP, 2, nd, Am...  \n",
       "13876  [Watching, Boomer, getting, the, news, that, s...  \n",
       "60133  [No, Pasaran, Unity, demo, to, oppose, the, fa...  \n",
       "83681         [What, the, fuck, did, he, do, this, time]  \n",
       "96874  [RAP, is, a, form, of, ART, Used, to, express,...  \n",
       "65507  [USER, Do, you, get, the, feeling, he, is, kis...  \n",
       "78910  [5, Tips, to, Enhance, Audience, Connection, o...  \n",
       "46363  [Bigg, Boss, Tamil, janani, won, the, task, Sh...  "
      ]
     },
     "execution_count": 142,
     "metadata": {},
     "output_type": "execute_result"
    }
   ],
   "source": [
    "data_A['hashtags'] = data_A['tweet'].apply(lambda x : re.compile('#(\\w+)').findall(x))\n",
    "data_A['words'] = data_A['tweet'].apply(lambda x : re.compile('\\w+').findall(x))\n",
    "data_A['words_refined'] = data_A['tweet'].apply(lambda x : re.compile('[0-9]+|[A-Z][a-z]+|[A-Z]+|[a-z]+').findall(x))\n",
    "data_A.head(10)"
   ]
  },
  {
   "cell_type": "code",
   "execution_count": null,
   "metadata": {},
   "outputs": [],
   "source": []
  },
  {
   "cell_type": "code",
   "execution_count": null,
   "metadata": {},
   "outputs": [],
   "source": []
  },
  {
   "cell_type": "code",
   "execution_count": null,
   "metadata": {},
   "outputs": [],
   "source": []
  },
  {
   "cell_type": "code",
   "execution_count": null,
   "metadata": {},
   "outputs": [],
   "source": []
  },
  {
   "cell_type": "code",
   "execution_count": null,
   "metadata": {},
   "outputs": [],
   "source": []
  }
 ],
 "metadata": {
  "kernelspec": {
   "display_name": "Python [conda env:ic_std]",
   "language": "python",
   "name": "conda-env-ic_std-py"
  },
  "language_info": {
   "codemirror_mode": {
    "name": "ipython",
    "version": 3
   },
   "file_extension": ".py",
   "mimetype": "text/x-python",
   "name": "python",
   "nbconvert_exporter": "python",
   "pygments_lexer": "ipython3",
   "version": "3.6.7"
  }
 },
 "nbformat": 4,
 "nbformat_minor": 2
}
