{
 "cells": [
  {
   "cell_type": "code",
   "execution_count": 1,
   "metadata": {},
   "outputs": [],
   "source": [
    "import numpy as np"
   ]
  },
  {
   "cell_type": "code",
   "execution_count": 12,
   "metadata": {},
   "outputs": [],
   "source": [
    "def shuffle(input_dataset, target_dataset):\n",
    "    \"\"\"\n",
    "    Returns shuffled versions of the inputs.\n",
    "\n",
    "    Arguments:\n",
    "        - input_dataset {np.ndarray} -- Array of input features, of shape\n",
    "            (#_data_points, n_features).\n",
    "        - target_dataset {np.ndarray} -- Array of corresponding targets, of\n",
    "            shape (#_data_points, ).\n",
    "\n",
    "    Returns: 2-tuple of np.ndarray: (shuffled inputs, shuffled_targets).\n",
    "    \"\"\"\n",
    "    #######################################################################\n",
    "    #                       ** START OF YOUR CODE **\n",
    "    #######################################################################\n",
    "    shuffled_index = list(range(len(target_dataset)))\n",
    "    np.random.shuffle(shuffled_index)\n",
    "    print(shuffled_index)\n",
    "    return (input_dataset[:,shuffled_index], target_dataset[shuffled_index])\n"
   ]
  },
  {
   "cell_type": "code",
   "execution_count": 13,
   "metadata": {},
   "outputs": [
    {
     "name": "stdout",
     "output_type": "stream",
     "text": [
      "[1, 0, 3, 2, 4]\n"
     ]
    },
    {
     "data": {
      "text/plain": [
       "(array([[2, 1, 4, 3, 5],\n",
       "        [2, 1, 4, 3, 5]]), array([2, 1, 4, 3, 5]))"
      ]
     },
     "execution_count": 13,
     "metadata": {},
     "output_type": "execute_result"
    }
   ],
   "source": [
    "shuffle(np.array([[1,2,3,4,5],[1,2,3,4,5]]),np.array([1,2,3,4,5]))"
   ]
  },
  {
   "cell_type": "code",
   "execution_count": null,
   "metadata": {},
   "outputs": [],
   "source": []
  }
 ],
 "metadata": {
  "kernelspec": {
   "display_name": "Python [conda env:ic_std]",
   "language": "python",
   "name": "conda-env-ic_std-py"
  },
  "language_info": {
   "codemirror_mode": {
    "name": "ipython",
    "version": 3
   },
   "file_extension": ".py",
   "mimetype": "text/x-python",
   "name": "python",
   "nbconvert_exporter": "python",
   "pygments_lexer": "ipython3",
   "version": "3.6.7"
  }
 },
 "nbformat": 4,
 "nbformat_minor": 2
}
